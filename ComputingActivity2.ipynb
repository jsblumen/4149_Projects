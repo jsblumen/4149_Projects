{
 "cells": [
  {
   "cell_type": "markdown",
   "metadata": {},
   "source": [
    "# Using Cantera for Thermodynamic Properties"
   ]
  },
  {
   "cell_type": "markdown",
   "metadata": {},
   "source": [
    "In this activity, we will practice applying the first law, and we will use computing to help us do the calculations.\n",
    "\n",
    "## Problem:\n",
    "Steam enters a turbine at 10 bar and 240 C and exhausts at 1.5 bar. The work output of the turbine drives a water pump. Water enters the pump at 1 bar and 15 C and exits at 60 bar. Both the turbine and the pump are adiabatic with efficiencies of 85% and 75%, respectively."
   ]
  },
  {
   "cell_type": "markdown",
   "metadata": {},
   "source": [
    "## Analytical Solution:\n",
    "Complete the following without inputting any numbers or doing calculations yet. The purpose of this part is to set up your approach.\n",
    "\n",
    "a) Draw a representative diagram of the system, labelling all inputs/outputs.\n",
    "\n",
    "b) Write the conservation of mass and energy statements for both devices.\n",
    "\n",
    "c) Determine the ratio of the water flow rate to the steam flow rate for internally reversible turbine and pump.\n",
    "\n",
    "d) Determine the flow rate ratio considering device inefficiencies.\n",
    "\n",
    "e) Determine the percent decrease in pumping capacity when comparing the real and ideal performances of the devices."
   ]
  },
  {
   "cell_type": "markdown",
   "metadata": {},
   "source": [
    "## Computational Solution:\n",
    "### Using Cantera\n",
    "Previously, you would use tables in the back of a book to look up the properties of fluids. That will become cumbersome if you you have to find fluid properties several times when analyzing a system, so we will use an open source tool to help us. Cantera is a suite of software tools for problems involving thermodynamics. Cantera will allow you to determine fluid properties. You can use Cantera from Python or Matlab. In this activity, we will use Python.\n",
    "\n",
    "Let's prepare to use Python and Cantera:"
   ]
  },
  {
   "cell_type": "code",
   "execution_count": null,
   "metadata": {},
   "outputs": [],
   "source": [
    "import numpy\n",
    "import cantera"
   ]
  },
  {
   "cell_type": "markdown",
   "metadata": {},
   "source": [
    "Now we will use Cantera to help us find the values we need. First, let's set the working fluid. In this case, the working fluid is water."
   ]
  },
  {
   "cell_type": "code",
   "execution_count": null,
   "metadata": {},
   "outputs": [],
   "source": [
    "H2O = cantera.Water()\n",
    "H2O()"
   ]
  },
  {
   "cell_type": "markdown",
   "metadata": {},
   "source": [
    "As of now, the state of the water is not set. Remember from thermodynamics the state postulate indicates the state of a simple compressible system is completely specified by two independent, intensive properties. Cantera will allow you to obtain properties of a substance as long as you define the state with two independent, intensive properties. For example, if you know the temperature and pressure of a gas entering a device, Cantera will allow you to easily \"look up\" other properties like enthalpy and entropy at that state. \n",
    "\n",
    "Let's start by defining the state at the turbine inlet. Do we know two properties? Yes! We know temperature and pressure: steam enters the turbine at 10 bar and 240 C. Let's set this state in Cantera, noting that Cantera works in standard units unless we specify otherwise."
   ]
  },
  {
   "cell_type": "code",
   "execution_count": null,
   "metadata": {},
   "outputs": [],
   "source": [
    "P1 = 1e6\n",
    "T1 = 240 + 273\n",
    "H2O.TP = T1, P1\n",
    "H2O()"
   ]
  },
  {
   "cell_type": "markdown",
   "metadata": {},
   "source": [
    "Now that we have defined the state, we can get any property. Let's get the enthalpy and entropy of the water (steam) at this state."
   ]
  },
  {
   "cell_type": "code",
   "execution_count": null,
   "metadata": {},
   "outputs": [],
   "source": [
    "h1 = H2O.enthalpy_mass\n",
    "s1 = H2O.entropy_mass\n",
    "print(h1)\n",
    "print(s1)"
   ]
  },
  {
   "cell_type": "markdown",
   "metadata": {},
   "source": [
    "What do you notice about the value of enthalpy? Does it match the value of enthalpy in the water property table?\n",
    "It is important to recognize Cantera reports properties relative to a standard reference state. You may recall this topic from your thermodynamics class. (If you don't, you can review it in your textbook. Section 15-3 \"Enthalpy of Formation and Enthalpy of Combustion\" explains this concept. After reading this section, you can see that Cantera can give you the enthalpy of formation of water by finding the enthalpy at the standard reference state of 25 C and 1 atm.)"
   ]
  },
  {
   "cell_type": "code",
   "execution_count": null,
   "metadata": {},
   "outputs": [],
   "source": [
    "T2 = 273 + 25\n",
    "P2 = 101325\n",
    "H2O.TP = T2, P2\n",
    "H2O()"
   ]
  },
  {
   "cell_type": "markdown",
   "metadata": {},
   "source": [
    "For most thermal systems analyses, you will usually calculate the change in fluid properties between two states. In this case, it does not matter that the property is taken relative to a reference state. The change is remains the same. In other words, let's say you have a working fluid which goes from state 1 to state 2, and you want to find the change in the working fluid's enthalpy: h2 - h1. Even if the enthalpy values are relative to a reference state A, the change in enthalpy will remain the same: (h2 - A) - (h1 - A) = h2 - h1.\n",
    "\n",
    "### Computational Approach:\n",
    "Now you have all the tools you need to do the calculations for Part 1. Set up the code corresponding to your approach from Part 1, and use Cantera to calculate the solutions."
   ]
  },
  {
   "cell_type": "code",
   "execution_count": null,
   "metadata": {},
   "outputs": [],
   "source": []
  }
 ],
 "metadata": {
  "kernelspec": {
   "display_name": "Python 3",
   "language": "python",
   "name": "python3"
  },
  "language_info": {
   "codemirror_mode": {
    "name": "ipython",
    "version": 3
   },
   "file_extension": ".py",
   "mimetype": "text/x-python",
   "name": "python",
   "nbconvert_exporter": "python",
   "pygments_lexer": "ipython3",
   "version": "3.6.2"
  }
 },
 "nbformat": 4,
 "nbformat_minor": 2
}
