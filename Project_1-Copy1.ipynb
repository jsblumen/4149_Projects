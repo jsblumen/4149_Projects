{
 "cells": [
  {
   "cell_type": "code",
   "execution_count": 1,
   "metadata": {},
   "outputs": [],
   "source": [
    "import numpy\n",
    "import matplotlib\n",
    "import math\n",
    "%matplotlib inline"
   ]
  },
  {
   "cell_type": "code",
   "execution_count": 2,
   "metadata": {},
   "outputs": [],
   "source": [
    "def vel(Vdot, A):\n",
    "    v_fluid = Vdot/A\n",
    "    return v_fluid"
   ]
  },
  {
   "cell_type": "code",
   "execution_count": 3,
   "metadata": {},
   "outputs": [],
   "source": [
    "def re(v_fluid, L, nu):\n",
    "    re_n = v_fluid * L/nu\n",
    "    \n",
    "    if re_n <= 5*10**5:\n",
    "        laminar = 1\n",
    "    else: \n",
    "        laminar = 0\n",
    "    re_prop = [re_n, laminar]\n",
    "    return re_prop "
   ]
  },
  {
   "cell_type": "code",
   "execution_count": 4,
   "metadata": {},
   "outputs": [],
   "source": [
    "def nusselt(re_n, pr_n):\n",
    "    x = 1/3\n",
    "    nusselt_n = 0.664* math.pow(re_n, 0.5) * math.pow(pr_n, x)\n",
    "    return nusselt_n"
   ]
  },
  {
   "cell_type": "code",
   "execution_count": 5,
   "metadata": {},
   "outputs": [],
   "source": [
    "def coh(nusselt_n, k, L):\n",
    "    h = nusselt_n * k / L\n",
    "    return h"
   ]
  },
  {
   "cell_type": "code",
   "execution_count": 6,
   "metadata": {},
   "outputs": [],
   "source": [
    "def r_cond(L, k, A):\n",
    "    r_conduction = L/(k*A)\n",
    "    return r_conduction"
   ]
  },
  {
   "cell_type": "code",
   "execution_count": 7,
   "metadata": {},
   "outputs": [],
   "source": [
    "def r_multi_fin(t, w, L, h, N, k, fin_surface):\n",
    "    P = 2 * w + 2 * t\n",
    "    A_c = t * w\n",
    "    A_f = 2 * w * L + t * w\n",
    "    A_b = (N-1) * t * w\n",
    "    A_t = N * A_f + A_b\n",
    "    m = ((h * P)/(k * A_c))**.5\n",
    "    M = (h * P * k * A_c)**.5\n",
    "    \n",
    "    qf = M * ((math.sinh(m*L) + (h/(m*k)) * math.cosh(m*L)))/(math.cosh(m*L) + (h/m*k) * math.sinh(m*L))\n",
    "    q_max = h * A_f\n",
    "    etaF = qf/q_max\n",
    "    etaO = 1 - (N*A_f)/A_t * (1 - etaF)\n",
    "           \n",
    "    R_fin = 1/(etaO * h * A_t)\n",
    "    R_fin_inv = R_fin**-1\n",
    "    R_inv_fin = fin_surface * R_fin_inv   \n",
    "    \n",
    "    return R_inv_fin"
   ]
  },
  {
   "cell_type": "code",
   "execution_count": 8,
   "metadata": {},
   "outputs": [],
   "source": [
    "def pr(Cp, u, k):\n",
    "    Pr = Cp*u/k\n",
    "    return Pr"
   ]
  },
  {
   "cell_type": "code",
   "execution_count": 9,
   "metadata": {},
   "outputs": [],
   "source": [
    "def h(k, L, re_n, pr_n):\n",
    "    x = 1/3\n",
    "    h = (k/L) * 0.664 * math.pow(re_n, 0.5) * math.pow(pr_n, x)\n",
    "    return h"
   ]
  },
  {
   "cell_type": "code",
   "execution_count": 10,
   "metadata": {},
   "outputs": [],
   "source": [
    "## Material and Chip Properties \n",
    "q = 130                           #Power of the Chip (W)\n",
    "t_inf = 38                        #Temperature inside the Case as Specified by Intel (C)\n",
    "\n",
    "L_paste = 50 * (10**-6)           #Length of the Paste (m)\n",
    "k_paste = 8.9                     #Thermal Conductivity of Paste (W/m^2 K)\n",
    "A_paste = 0.0405 * 0.03674        #Area of Paste (m^2)\n",
    "\n",
    "k_6061 = 175                      #Thermal Conductivity of 6061 Aluminum\n",
    "k_copper = 401                    #Thermal Conductivity of Copper\n",
    "\n",
    "Cp_air = 1007                     #Specific Heat of Air J/kg*K\n",
    "nu_air = 17.02 * 10**-6           #Kinimatic Viscosity of Air m^2/s\n",
    "mu_air = 19.18*10**-6             #Dynamic Viscosity of Air kg/m*s \n",
    "k_air = 26.62*10**-3              #Thermal Conductivity of Air (W/m^2 K)\n",
    "\n",
    "Cp_water = 4182                   #Specific Heat of Water J/kg*K\n",
    "nu_water = 0.0000006591           #Kinematic Viscosity of Water at 40C\n",
    "mu_water = 0.000653               #Dynamic Viscosity of Water at 40C\n",
    "k_water = 0.62856                 #Thermal Conductivity of Water at 40C"
   ]
  },
  {
   "cell_type": "code",
   "execution_count": 11,
   "metadata": {},
   "outputs": [
    {
     "data": {
      "text/plain": [
       "67.3286557083139"
      ]
     },
     "execution_count": 11,
     "metadata": {},
     "output_type": "execute_result"
    }
   ],
   "source": [
    "## Air Cooling Properties\n",
    "L_core = 0.01728\n",
    "A_core = 0.0375**2\n",
    "t_fin = 0.0015\n",
    "w_fin = 0.050\n",
    "L_fin = 0.040\n",
    "N_fin = 13\n",
    "N_fin_surfaces = 4\n",
    "\n",
    "V_dot_fan = 0.03912444 #82.9CFM\n",
    "A_fan = math.pi * 0.25 * (.12**2 - 0.035**2)\n",
    "u_fan = vel(Vdot = V_dot_fan, A = A_fan)\n",
    "\n",
    "re_air = re(v_fluid = u_fan, L = w_fin, nu = nu_air)\n",
    "Pr_air = pr(Cp = Cp_air, u = mu_air, k = k_air)\n",
    "Nusselt_air = nusselt(re_n = re_air[0], pr_n = Pr_air)\n",
    "h_air = h(k = k_air, L = w_fin, re_n = re_air[0], pr_n = Pr_air)\n",
    "r_paste = r_cond(L = L_paste, k = k_paste, A = A_paste)\n",
    "r_core = r_cond(L = L_core, k = k_6061, A = A_core)\n",
    "r_fin = r_multi_fin(t = t_fin, w = w_fin, L = L_fin, h = h_air, N = N_fin, k = k_6061, fin_surface = N_fin_surfaces)\n",
    "r_eq = r_paste + r_fin + r_core\n",
    "t_dtc_chip = q * r_eq + t_inf\n",
    "t_dtc_chip"
   ]
  },
  {
   "cell_type": "code",
   "execution_count": 12,
   "metadata": {},
   "outputs": [
    {
     "data": {
      "text/plain": [
       "45.86837718234024"
      ]
     },
     "execution_count": 12,
     "metadata": {},
     "output_type": "execute_result"
    }
   ],
   "source": [
    "## Water Cooling Properties\n",
    "L_base_w = 0.001\n",
    "A_base_w = 0.045 * 0.042\n",
    "t_fin_w = 0.005\n",
    "b_fin_w = 0.005\n",
    "h_fin_w = 0.004\n",
    "w_fin_w = 0.045\n",
    "L_fin_w = 0.042\n",
    "N_fin_w = 5\n",
    "N_fin_surface_w = 4\n",
    "SA_fin_w = L_fin_w * h_fin_w * (2*N_fin_surface_w)\n",
    "\n",
    "R_rad_w = 25**-1 #250W/10K --> 25W/K --> inv(25) K/W\n",
    "\n",
    "V_dot_pump_w = 1.38893* (10**(-4))\n",
    "A_pipe_w = math.pi * 0.25 * 0.00635**2 ##Area of a 1/4\" ID pipe\n",
    "u_pipe_w = vel(Vdot = V_dot_pump_w, A = A_pipe_w)\n",
    "re_water = re(v_fluid = u_pipe_w, L = L_fin_w, nu = nu_water)\n",
    "Pr_water = pr(Cp = Cp_water, u = mu_water, k = k_water)\n",
    "Nusselt_water = nusselt(re_n = re_water[0], pr_n = Pr_water)\n",
    "h_water = h(k = k_water, L = L_fin_w, re_n = re_water[0], pr_n = Pr_water)\n",
    "r_paste_w = r_cond(L = L_paste, k = k_paste, A = A_paste)\n",
    "r_core_w = r_cond(L = L_base_w, k = k_copper, A = A_base_w)\n",
    "r_fin_w = (h_water * (b_fin_w * L_fin_w * N_fin_surface_w + N_fin_w * 1 * SA_fin_w))**(-1)\n",
    "r_eq_w = r_paste_w + r_core_w + r_fin_w + R_rad_w\n",
    "t_dtc_chip_w = q*r_eq_w + t_inf\n",
    "t_dtc_chip_w"
   ]
  },
  {
   "cell_type": "code",
   "execution_count": null,
   "metadata": {},
   "outputs": [],
   "source": []
  }
 ],
 "metadata": {
  "kernelspec": {
   "display_name": "Python 3",
   "language": "python",
   "name": "python3"
  },
  "language_info": {
   "codemirror_mode": {
    "name": "ipython",
    "version": 3
   },
   "file_extension": ".py",
   "mimetype": "text/x-python",
   "name": "python",
   "nbconvert_exporter": "python",
   "pygments_lexer": "ipython3",
   "version": "3.6.2"
  }
 },
 "nbformat": 4,
 "nbformat_minor": 2
}
