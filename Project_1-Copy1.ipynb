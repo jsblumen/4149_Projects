{
 "cells": [
  {
   "cell_type": "code",
   "execution_count": 1,
   "metadata": {},
   "outputs": [],
   "source": [
    "import numpy\n",
    "import matplotlib\n",
    "import math\n",
    "%matplotlib inline"
   ]
  },
  {
   "cell_type": "code",
   "execution_count": 2,
   "metadata": {},
   "outputs": [],
   "source": [
    "def vel(Vdot, A):\n",
    "    v_fluid = Vdot/A\n",
    "    return v_fluid"
   ]
  },
  {
   "cell_type": "code",
   "execution_count": 3,
   "metadata": {},
   "outputs": [],
   "source": [
    "def re(v_fluid, L, nu):\n",
    "    re_n = v_fluid * L/nu\n",
    "    \n",
    "    if re_n <= 5*10**5:\n",
    "        laminar = 1\n",
    "    else: \n",
    "        laminar = 0\n",
    "    re_prop = [re_n, laminar]\n",
    "    return re_prop "
   ]
  },
  {
   "cell_type": "code",
   "execution_count": 4,
   "metadata": {},
   "outputs": [],
   "source": [
    "def nusselt(re_n, pr_n):\n",
    "    x = 1/3\n",
    "    nusselt_n = 0.664* math.pow(re_n, 0.5) * math.pow(pr_n, x)\n",
    "    return nusselt_n"
   ]
  },
  {
   "cell_type": "code",
   "execution_count": 5,
   "metadata": {},
   "outputs": [],
   "source": [
    "def coh(nusselt_n, k, L):\n",
    "    h = nusselt_n * k / L\n",
    "    return h"
   ]
  },
  {
   "cell_type": "code",
   "execution_count": 6,
   "metadata": {},
   "outputs": [],
   "source": [
    "def r_cond(L, k, A):\n",
    "    r_conduction = L/(k*A)\n",
    "    return r_conduction"
   ]
  },
  {
   "cell_type": "code",
   "execution_count": 7,
   "metadata": {},
   "outputs": [],
   "source": [
    "def r_multi_fin(t, w, L, h, N, k, fin_surface):\n",
    "    P = 2 * w + 2 * t\n",
    "    A_c = t * w\n",
    "    A_f = 2 * w * L + t * w\n",
    "    A_b = (N-1) * t * w\n",
    "    A_t = N * A_f + A_b\n",
    "    m = ((h * P)/(k * A_c))**.5\n",
    "    M = (h * P * k * A_c)**.5\n",
    "    \n",
    "    qf = M * ((math.sinh(m*L) + (h/(m*k)) * math.cosh(m*L)))/(math.cosh(m*L) + (h/m*k) * math.sinh(m*L))\n",
    "    q_max = h * A_f\n",
    "    etaF = qf/q_max\n",
    "    etaO = 1 - (N*A_f)/A_t * (1 - etaF)\n",
    "           \n",
    "    R_fin = 1/(etaO * h * A_t)\n",
    "    R_fin_inv = R_fin**-1\n",
    "    R_inv_fin = fin_surface * R_fin_inv   \n",
    "    \n",
    "    return R_inv_fin"
   ]
  },
  {
   "cell_type": "code",
   "execution_count": 8,
   "metadata": {},
   "outputs": [],
   "source": [
    "def pr(Cp, u, k):\n",
    "    Pr = Cp*u/k\n",
    "    return Pr"
   ]
  },
  {
   "cell_type": "code",
   "execution_count": 9,
   "metadata": {},
   "outputs": [],
   "source": [
    "def h(k, L, re_n, pr_n):\n",
    "    x = 1/3\n",
    "    h = (k/L) * 0.664 * math.pow(re_n, 0.5) * math.pow(pr_n, x)\n",
    "    return h"
   ]
  },
  {
   "cell_type": "code",
   "execution_count": 10,
   "metadata": {},
   "outputs": [],
   "source": [
    "## Material and Chip Properties \n",
    "q = 130                           #Power of the Chip (W)\n",
    "t_inf = 38                        #Temperature inside the Case as Specified by Intel (C)\n",
    "\n",
    "L_paste = 50 * (10**-6)           #Length of the Paste (m)\n",
    "k_paste = 8.9                     #Thermal Conductivity of Paste (W/m^2 K)\n",
    "A_paste = 0.0405 * 0.03674        #Area of Paste (m^2)\n",
    "\n",
    "k_6061 = 175                      #Thermal Conductivity of 6061 Aluminum\n",
    "\n",
    "Cp_air = 1007                     #Specific Heat of Air J/kg*K\n",
    "nu_air = 17.02 * 10**-6           #Kinimatic Viscosity of Air m^2/s\n",
    "mu_air = 19.18*10**-6             #Dynamic Viscosity of Air kg/m*s \n",
    "k_air = 26.62*10**-3              #Thermal Conductivity of Air (W/m^2 K)"
   ]
  },
  {
   "cell_type": "code",
   "execution_count": 11,
   "metadata": {},
   "outputs": [
    {
     "data": {
      "text/plain": [
       "67.3286557083139"
      ]
     },
     "execution_count": 11,
     "metadata": {},
     "output_type": "execute_result"
    }
   ],
   "source": [
    "## Air Cooling Properties\n",
    "L_core = 0.01728\n",
    "A_core = 0.0375**2\n",
    "t_fin = 0.0015\n",
    "w_fin = 0.050\n",
    "L_fin = 0.040\n",
    "N_fin = 13\n",
    "N_fin_surfaces = 4\n",
    "\n",
    "V_dot_fan = 0.03912444 #82.9CFM\n",
    "A_fan = math.pi * 0.25 * (.12**2 - 0.035**2)\n",
    "u_fan = vel(Vdot = V_dot_fan, A = A_fan)\n",
    "\n",
    "re_air = re(v_fluid = u_fan, L = w_fin, nu = nu_air)\n",
    "Pr_air = pr(Cp = Cp_air, u = mu_air, k = k_air)\n",
    "Nusselt_air = nusselt(re_n = re_air[0], pr_n = Pr_air)\n",
    "h_air = h(k = k_air, L = w_fin, re_n = re_air[0], pr_n = Pr_air)\n",
    "r_paste = r_cond(L = L_paste, k = k_paste, A = A_paste)\n",
    "r_core = r_cond(L = L_core, k = k_6061, A = A_core)\n",
    "r_fin = r_multi_fin(t = t_fin, w = w_fin, L = L_fin, h = h_air, N = N_fin, k = k_6061, fin_surface = N_fin_surfaces)\n",
    "r_eq = r_paste + r_fin + r_core\n",
    "t_dtc_chip = q * r_eq + t_inf\n",
    "t_dtc_chip"
   ]
  },
  {
   "cell_type": "code",
   "execution_count": null,
   "metadata": {},
   "outputs": [],
   "source": []
  },
  {
   "cell_type": "code",
   "execution_count": null,
   "metadata": {},
   "outputs": [],
   "source": []
  }
 ],
 "metadata": {
  "kernelspec": {
   "display_name": "Python 3",
   "language": "python",
   "name": "python3"
  },
  "language_info": {
   "codemirror_mode": {
    "name": "ipython",
    "version": 3
   },
   "file_extension": ".py",
   "mimetype": "text/x-python",
   "name": "python",
   "nbconvert_exporter": "python",
   "pygments_lexer": "ipython3",
   "version": "3.6.2"
  }
 },
 "nbformat": 4,
 "nbformat_minor": 2
}
